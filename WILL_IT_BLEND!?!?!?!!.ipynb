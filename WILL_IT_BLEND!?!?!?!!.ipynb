{
 "cells": [
  {
   "cell_type": "markdown",
   "metadata": {},
   "source": [
    "# Will It Blend? Deploying BlenderBot\n",
    "\n",
    "First, load the model."
   ]
  },
  {
   "cell_type": "code",
   "execution_count": 3,
   "metadata": {},
   "outputs": [
    {
     "name": "stdout",
     "output_type": "stream",
     "text": [
      "06:25:43 | \u001b[33mOverriding opt[\"model\"] to internal:cgen (previously: projects.anti_scaling.distillation:DistillTransformerAgent)\u001b[0m\n",
      "06:25:43 | \u001b[33mOverriding opt[\"skip_generation\"] to False (previously: True)\u001b[0m\n",
      "06:25:43 | \u001b[33mOverriding opt[\"inference\"] to delayedbeam (previously: beam)\u001b[0m\n",
      "06:25:43 | \u001b[33mOverriding opt[\"beam_delay\"] to 25 (previously: 30)\u001b[0m\n",
      "06:25:43 | \u001b[33mOverriding opt[\"beam_block_list_filename\"] to resources/banned_words.txt (previously: None)\u001b[0m\n",
      "06:25:43 | Using CUDA\n",
      "06:25:43 | loading dictionary from blender_distilled/blender_distilled.pth.checkpoint.dict\n",
      "06:25:43 | num words = 8008\n"
     ]
    }
   ],
   "source": [
    "\n",
    "\n",
    "from parlai.core.agents import create_agent_from_model_file\n",
    "blender_agent = create_agent_from_model_file(\"blender_distilled/blender_distilled.pth.checkpoint\",\n",
    "                                            opt_overrides={\n",
    "                                                \"model\": \"internal:cgen\",\n",
    "                                                \"skip_generation\": False,\n",
    "                                                \"inference\": \"delayedbeam\",\n",
    "                                                \"beam_delay\": 25,\n",
    "                                                \"beam_block_list_filename\": \"resources/banned_words.txt\"\n",
    "                                            })\n",
    "\n"
   ]
  },
  {
   "cell_type": "code",
   "execution_count": 4,
   "metadata": {},
   "outputs": [
    {
     "name": "stdout",
     "output_type": "stream",
     "text": [
      "The autoreload extension is already loaded. To reload it, use:\n",
      "  %reload_ext autoreload\n"
     ]
    }
   ],
   "source": [
    "%load_ext autoreload\n",
    "%autoreload 2\n",
    "\n",
    "import logging\n",
    "logging.basicConfig(level=logging.DEBUG)"
   ]
  },
  {
   "cell_type": "code",
   "execution_count": 5,
   "metadata": {},
   "outputs": [
    {
     "data": {
      "text/plain": [
       "<parlai_internal.agents.cgen.cgen.CgenAgent at 0x7fa25d3c2d10>"
      ]
     },
     "execution_count": 5,
     "metadata": {},
     "output_type": "execute_result"
    }
   ],
   "source": [
    "blender_agent.opt[\"temperature\"] = 0.7\n",
    "blender_agent.opt[\"topp\"] = 0.9\n",
    "blender_agent.opt[\"topk\"] = 5\n",
    "blender_agent.opt[\"beam_min_length\"] = 15\n",
    "blender_agent.opt[\"beam_size\"] = 10\n",
    "blender_agent.opt[\"inference\"] = \"beam\"\n",
    "blender_agent"
   ]
  },
  {
   "cell_type": "code",
   "execution_count": 30,
   "metadata": {},
   "outputs": [
    {
     "data": {
      "text/plain": [
       "{'BYE',\n",
       " 'BYES',\n",
       " 'Bye',\n",
       " 'ByeS',\n",
       " 'Byes',\n",
       " 'GOODBYE',\n",
       " 'GOODBYES',\n",
       " 'Goodbye',\n",
       " 'GoodbyeS',\n",
       " 'Goodbyes',\n",
       " 'SEE YOU LATER',\n",
       " 'SEE YOU LATERS',\n",
       " 'SO LONG',\n",
       " 'SO LONGS',\n",
       " 'See You Later',\n",
       " 'See You LaterS',\n",
       " 'See you later',\n",
       " 'See you laters',\n",
       " 'So Long',\n",
       " 'So LongS',\n",
       " 'So long',\n",
       " 'So longs',\n",
       " 'bye',\n",
       " 'byes',\n",
       " 'goodbye',\n",
       " 'goodbyes',\n",
       " 'see you later',\n",
       " 'see you laters',\n",
       " 'so long',\n",
       " 'so longs'}"
      ]
     },
     "execution_count": 30,
     "metadata": {},
     "output_type": "execute_result"
    }
   ],
   "source": [
    "blender_agent.beam_block_list._phrases"
   ]
  },
  {
   "cell_type": "markdown",
   "metadata": {},
   "source": [
    "## Example\n",
    "\n",
    "Minimal example from Github issue"
   ]
  },
  {
   "cell_type": "code",
   "execution_count": 27,
   "metadata": {
    "scrolled": true
   },
   "outputs": [
    {
     "name": "stdout",
     "output_type": "stream",
     "text": [
      "Added user utterance: \n",
      "Added bot utterance: Hi, this is an Alexa Prize Socialbot. I'd like to get to know you a bit better before we chat! Is it all right if I ask for you name?\n",
      "Added user utterance: trenton\n",
      "Added bot utterance: Nice to meet you, trenton! I'm looking forward to chatting with you today. So, I think the key to a good mood is eating well. What's a food that always makes you feel good?hazelnut\n",
      "Added user utterance: I love hazelnut as well! It's nice and crunchy and I especially love it as a topping on my frozen yogurt. What do you like about hazelnut?\n",
      "Added bot utterance: um i guess it tastes good\n",
      "Added user utterance: I like the texture and the flavor. I also like that it can be used in so many different cuisines. Do you have a favorite?\n",
      "Added bot utterance: I don't know actually\n",
      "Added user utterance: i like all kinds of food but i really like thai and indian food. what about you?\n",
      "Added bot utterance: i like mexican\n",
      "Added user utterance: I love Thai food too! I especially like the spicy curry. What is your favorite type of Indian food?\n",
      "Added bot utterance: no i like mexican food\n",
      "Added user utterance: i like curry too. i like it with a lot of spices and herbs and vegetables\n",
      "Added bot utterance: i guess that sounds good\n",
      "Added user utterance: do you have any favorite curry dishes from indian countries like indian and chinese?\n",
      "Added bot utterance: hmm i don't know does lamb curry count\n",
      "Added user utterance: i love indian curry, it is one of the most popular types of curry in the world\n",
      "Added bot utterance: you got that right\n",
      "Added user utterance: I love it too. It is so versatile. It can be made with vegetables, meats, and condiments.\n",
      "Added bot utterance: for sure yeah\n",
      "Added user utterance: yes it can and it can also be made in a variety of flavors like lamb, beef, pork, chicken, seafood\n",
      "Added bot utterance: that's really cool i never heard of seafood curry\n",
      "Added user utterance: that sounds really good. i will have to try it sometime. what do you do for a living?\n",
      "Added bot utterance: uh i'm a student\n",
      "Added user utterance: I'm a student right now, but I'm hoping to go back to school in the future.\n",
      "Added bot utterance: what?\n",
      "BlenderBot replied in 532ms: That's cool what are you studying in school? I'm studying to be a nursing student\n",
      "All beams: that's cool what are you studying in school? i'm studying to be a nursing student\n",
      "that's cool what are you studying in school? i'm studying to be a nurse\n",
      "that's cool what are you studying in school? I'm studying to be a nursing student\n",
      "that's cool what are you studying in school? i'm studying to be a nursing major\n",
      "that's cool what are you studying in school? I'm studying to be a nurse\n",
      "that's cool what are you studying in school? i'm studying to be a nurturing student\n",
      "that's cool what are you studying in school? I'm studying to be a nursing major\n",
      "that's cool what are you studying in school? I'm studying to be a nurturing student\n",
      "that's cool what are you studying in school? I'm studying to be a teacher.\n",
      "that's cool what are you studying in school? i'm studying to be a teacher.\n",
      "that's cool what are you studying in school? I'm studying to be a nursing student.\n",
      "that's cool what are you studying in school? i'm studying to be a nursing student.\n",
      "that's cool what are you studying in school? I'm studying to be a nursing major.\n",
      "that's cool what are you studying in school? i'm studying to be a nurturing engineer\n",
      "\n",
      "BlenderBot's history view:\n",
      "  Hi, this is an Alexa Prize Socialbot. I'd like to get to know you a bit better before we chat! Is it all right if I ask for you name?  trenton  Nice to meet you, trenton! I'm looking forward to chatting with you today. So, I think the key to a good mood is eating well. What's a food that always makes you feel good?hazelnut  I love hazelnut as well! It's nice and crunchy and I especially love it as a topping on my frozen yogurt. What do you like about hazelnut?  um i guess it tastes good  I like the texture and the flavor. I also like that it can be used in so many different cuisines. Do you have a favorite?  I don't know actually  i like all kinds of food but i really like thai and indian food. what about you?  i like mexican  I love Thai food too! I especially like the spicy curry. What is your favorite type of Indian food?  no i like mexican food  i like curry too. i like it with a lot of spices and herbs and vegetables  i guess that sounds good  do you have any favorite curry dishes from indian countries like indian and chinese?  hmm i don't know does lamb curry count  i love indian curry, it is one of the most popular types of curry in the world  you got that right  I love it too. It is so versatile. It can be made with vegetables, meats, and condiments.  for sure yeah  yes it can and it can also be made in a variety of flavors like lamb, beef, pork, chicken, seafood  that's really cool i never heard of seafood curry  that sounds really good. i will have to try it sometime. what do you do for a living?  uh i'm a student  I'm a student right now, but I'm hoping to go back to school in the future.  what?\n"
     ]
    }
   ],
   "source": [
    "\n",
    "from itertools import zip_longest\n",
    "import time\n",
    "from parlai.utils.strings import normalize_reply\n",
    "\n",
    "start = time.time()\n",
    "\n",
    "blender_agent.reset()\n",
    "\n",
    "history = [\n",
    "    \"\",\n",
    "    \"Hi, this is an Alexa Prize Socialbot. I'd like to get to know you a bit better before we chat! Is it all right if I ask for you name?\",\n",
    "    \"trenton\",\n",
    "    \"Nice to meet you, trenton! I'm looking forward to chatting with you today. So, I think the key to a good mood is eating well. What's a food that always makes you feel good?\"\n",
    "    \"hazelnut\",\n",
    "    \"I love hazelnut as well! It's nice and crunchy and I especially love it as a topping on my frozen yogurt. What do you like about hazelnut?\",\n",
    "    \"um i guess it tastes good\",\n",
    "    \"I like the texture and the flavor. I also like that it can be used in so many different cuisines. Do you have a favorite?\",\n",
    "    \"I don't know actually\",\n",
    "    \"i like all kinds of food but i really like thai and indian food. what about you?\",\n",
    "    \"i like mexican\",\n",
    "    \"I love Thai food too! I especially like the spicy curry. What is your favorite type of Indian food?\",\n",
    "    \"no i like mexican food\",\n",
    "    \"i like curry too. i like it with a lot of spices and herbs and vegetables\",\n",
    "    \"i guess that sounds good\",\n",
    "    \"do you have any favorite curry dishes from indian countries like indian and chinese?\",\n",
    "    \"hmm i don't know does lamb curry count\",\n",
    "    \"i love indian curry, it is one of the most popular types of curry in the world\",\n",
    "    \"you got that right\",\n",
    "    \"I love it too. It is so versatile. It can be made with vegetables, meats, and condiments.\",\n",
    "    \"for sure yeah\",\n",
    "    \"yes it can and it can also be made in a variety of flavors like lamb, beef, pork, chicken, seafood\",\n",
    "    \"that's really cool i never heard of seafood curry\",\n",
    "    \"that sounds really good. i will have to try it sometime. what do you do for a living?\",\n",
    "    \"uh i'm a student\",\n",
    "    \"I'm a student right now, but I'm hoping to go back to school in the future.\",\n",
    "    \"what?\"\n",
    "]\n",
    "prefix = None\n",
    "def process(history):\n",
    "    pairs = zip_longest(*[iter(history)]*2)\n",
    "\n",
    "    for user, bot in pairs:\n",
    "        blender_agent.observe({'text': user, 'episode_done': False})\n",
    "        print(\"Added user utterance:\", user)\n",
    "        if bot:\n",
    "            blender_agent.history.add_reply(bot)\n",
    "            print(\"Added bot utterance:\", bot)\n",
    "    response = blender_agent.act(prefix_text=prefix)\n",
    "    elapsed = time.time() - start\n",
    "    print(f\"BlenderBot replied in {elapsed * 1000:.0f}ms: {normalize_reply(response['text'])}\")\n",
    "    print(\"All beams:\", \"\\n\".join([t for t, s in response[\"beam_texts\"]]))\n",
    "    print()\n",
    "\n",
    "    print(\"BlenderBot's history view:\")\n",
    "    print(blender_agent.history)\n",
    "    return response\n",
    "    \n",
    "response = process(history)"
   ]
  },
  {
   "cell_type": "code",
   "execution_count": 36,
   "metadata": {},
   "outputs": [
    {
     "data": {
      "text/plain": [
       "{'id': 'Cgen',\n",
       " 'episode_done': False,\n",
       " 'text': \"I love hazelnut! It's nice as it's one of the most widely consumed foods in the world. What about you?\",\n",
       " 'beam_texts': [(\"I love hazelnut! It's nice as it's one of the most widely consumed foods in the world. What about you?\",\n",
       "   -11.454596519470215),\n",
       "  (\"I love hazelnut! It's nice as it's one of the most widely consumed foods in the world!\",\n",
       "   -11.625725746154785),\n",
       "  (\"I love hazelnut! It's nice as it's one of the most widely consumed fruits in the world!\",\n",
       "   -11.740839958190918),\n",
       "  (\"I love hazelnut! It's nice as it's one of the most widely consumed foods in the world.\",\n",
       "   -11.787345886230469),\n",
       "  (\"I love hazelnut! It's nice as it's one of the most widely consumed fruits in the world.\",\n",
       "   -11.881574630737305),\n",
       "  (\"I love hazelnut! It's nice as it's one of the most widely consumed foods in the world. Do you like it?\",\n",
       "   -11.947830200195312),\n",
       "  (\"I love hazelnut! It's nice as it's one of the most popular foods in the world!\",\n",
       "   -12.203518867492676),\n",
       "  (\"I love hazelnut! It's nice as it's one of the most common foods in the world!\",\n",
       "   -12.219606399536133),\n",
       "  (\"I love hazelnut! It's nice as it's one of the most widely used foods in the world!\",\n",
       "   -12.322351455688477),\n",
       "  (\"I love hazelnut! It's nice as it's one of the most widely consumed foods in the world\",\n",
       "   -12.341556549072266)]}"
      ]
     },
     "execution_count": 36,
     "metadata": {},
     "output_type": "execute_result"
    }
   ],
   "source": [
    "response"
   ]
  },
  {
   "cell_type": "code",
   "execution_count": 18,
   "metadata": {},
   "outputs": [
    {
     "name": "stdout",
     "output_type": "stream",
     "text": [
      "[('hi, where are you from', \"i'm from the states! i'm from california originally but i live in utah now.\"), ('cool, i am also from utah', \"that's great, what is your favorite place?\"), ('um maybe taiwan?', None)]\n"
     ]
    }
   ],
   "source": [
    "from itertools import zip_longest\n",
    "history = [\n",
    "    \"hi, where are you from\",\n",
    "    \"i'm from the states! i'm from california originally but i live in utah now.\",\n",
    "    \"cool, i am also from utah\",\n",
    "    \"that's great, what is your favorite place?\",\n",
    "    \"um maybe taiwan?\"\n",
    "]\n",
    "pairs = zip_longest(*[iter(history)]*2)\n",
    "print(list(pairs))"
   ]
  },
  {
   "cell_type": "code",
   "execution_count": 14,
   "metadata": {},
   "outputs": [],
   "source": [
    "from parlai.agents.transformer.transformer import TransformerGeneratorAgent\n"
   ]
  },
  {
   "cell_type": "code",
   "execution_count": null,
   "metadata": {},
   "outputs": [],
   "source": []
  }
 ],
 "metadata": {
  "kernelspec": {
   "display_name": "Python 3",
   "language": "python",
   "name": "python3"
  },
  "language_info": {
   "codemirror_mode": {
    "name": "ipython",
    "version": 3
   },
   "file_extension": ".py",
   "mimetype": "text/x-python",
   "name": "python",
   "nbconvert_exporter": "python",
   "pygments_lexer": "ipython3",
   "version": "3.7.10"
  }
 },
 "nbformat": 4,
 "nbformat_minor": 4
}
