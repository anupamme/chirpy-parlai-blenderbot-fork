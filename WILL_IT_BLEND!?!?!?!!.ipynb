{
 "cells": [
  {
   "cell_type": "markdown",
   "metadata": {},
   "source": [
    "# Will It Blend? Deploying BlenderBot\n",
    "\n",
    "First, load the model."
   ]
  },
  {
   "cell_type": "code",
   "execution_count": 1,
   "metadata": {},
   "outputs": [
    {
     "name": "stdout",
     "output_type": "stream",
     "text": [
      "03:53:37 | \u001b[33mOverriding opt[\"model\"] to internal:cgen (previously: projects.anti_scaling.distillation:DistillTransformerAgent)\u001b[0m\n",
      "03:53:37 | \u001b[33mOverriding opt[\"skip_generation\"] to False (previously: True)\u001b[0m\n",
      "03:53:37 | \u001b[33mOverriding opt[\"topk\"] to 5 (previously: 10)\u001b[0m\n",
      "03:53:37 | \u001b[33mOverriding opt[\"inference\"] to topk (previously: beam)\u001b[0m\n",
      "03:53:37 | \u001b[33mOverriding opt[\"temperature\"] to 0.7 (previously: 1.0)\u001b[0m\n",
      "03:53:38 | Using CUDA\n",
      "03:53:38 | loading dictionary from blender_distilled/blender_distilled.pth.checkpoint.dict\n",
      "03:53:38 | num words = 8008\n",
      "03:54:01 | Total parameters: 1,122,675,200 (1,122,019,840 trainable)\n",
      "03:54:01 | Loading existing model params from blender_distilled/blender_distilled.pth.checkpoint\n"
     ]
    }
   ],
   "source": [
    "from parlai.core.agents import create_agent_from_model_file\n",
    "blender_agent = create_agent_from_model_file(\"blender_distilled/blender_distilled.pth.checkpoint\",\n",
    "                                            opt_overrides={\n",
    "                                                \"model\": \"internal:cgen\",\n",
    "                                                \"skip_generation\": False,\n",
    "                                                \"topk\": 5,\n",
    "                                                \"inference\": \"topk\",\n",
    "                                                \"temperature\": 0.7,\n",
    "                                            })\n",
    "\n"
   ]
  },
  {
   "cell_type": "code",
   "execution_count": 2,
   "metadata": {},
   "outputs": [],
   "source": [
    "%load_ext autoreload\n",
    "%autoreload 2"
   ]
  },
  {
   "cell_type": "code",
   "execution_count": 70,
   "metadata": {},
   "outputs": [],
   "source": [
    "blender_agent.opt[\"inference\"] = \"delayedbeam\"\n",
    "blender_agent.opt[\"beam_delay\"] = 25\n",
    "blender_agent.opt[\"topp\"] = 1.0\n",
    "blender_agent.opt[\"topk\"] = 5\n"
   ]
  },
  {
   "cell_type": "markdown",
   "metadata": {},
   "source": [
    "## Example\n",
    "\n",
    "Minimal example from Github issue"
   ]
  },
  {
   "cell_type": "code",
   "execution_count": 71,
   "metadata": {},
   "outputs": [
    {
     "name": "stdout",
     "output_type": "stream",
     "text": [
      "BlenderBot replied in 554ms: That's a good age. I'm sure she's a wonderful teacher. Do you have any hobbies?\n",
      "All beams: That's a good age. I'm sure she's a wonderful teacher. Do you have any hobbies?\n",
      "That's a wonderful age. I'm sure she will enjoy it! Do you have any hobbies?\n",
      "That's really great! Do you have any hobbies? I love to read. Do you?\n",
      "That's a good age. I'm sure it'll be great! How long have you been together?\n",
      "oh, that is a great age to teach. I teach middle school english, which is kindergarten.\n",
      "That's so cool! I've always wanted to teach middle school english! I think it's important to know how to read.\n",
      "Wow! That's still very young. I think my girlfriend will be a great teacher. Do you like english?\n",
      "That's so cool! I've always wanted to teach middle school english! I think it's important to know how to read!\n",
      "That's so cool! I've always wanted to teach middle school english! I think it's important to know how to teach.\n",
      "Oh cool! I teach kindergarten. I'm hoping to teach fifteen in the future.\n",
      "Oh, that sounds so cool! I love fifteen. What subject do you teach?\n",
      "\n",
      "BlenderBot's history view:\n",
      "hi, where are you from?  i'm from the states! i'm from california originally but i live in utah now.  cool, i am also from utah.  that's great, what is your favorite place in utah?  probably logan because that's where i'm from  oh cool, that's a great city to live in. what do you do for a living?  i am a student  that's awesome, what are you studying?  machine learning  That's awesome! I'm currently studying to be a teacher. I hope to teach english one day.  very nice my girlfriend is a teacher herself  That's great! I hope she teaches english too. I love english. What grade level does she teach?  fifth grade\n"
     ]
    }
   ],
   "source": [
    "\n",
    "from itertools import zip_longest\n",
    "import time\n",
    "from parlai.utils.strings import normalize_reply\n",
    "\n",
    "start = time.time()\n",
    "\n",
    "blender_agent.reset()\n",
    "\n",
    "history = [\n",
    "    \"hi, where are you from?\",\n",
    "    \"i'm from the states! i'm from california originally but i live in utah now.\",\n",
    "    \"cool, i am also from utah.\",\n",
    "    \"that's great, what is your favorite place in utah?\",\n",
    "    \"probably logan because that's where i'm from\",\n",
    "    \"oh cool, that's a great city to live in. what do you do for a living?\",\n",
    "    \"i am a student\",\n",
    "    \"that's awesome, what are you studying?\",\n",
    "    \"machine learning\",\n",
    "    \"That's awesome! I'm currently studying to be a teacher. I hope to teach english one day.\",\n",
    "    \"very nice my girlfriend is a teacher herself\",\n",
    "    \"That's great! I hope she teaches english too. I love english. What grade level does she teach?\",\n",
    "    \"fifth grade\"\n",
    "]\n",
    "prefix = None\n",
    "def process(history):\n",
    "    pairs = zip_longest(*[iter(history)]*2)\n",
    "\n",
    "    for user, bot in pairs:\n",
    "        blender_agent.observe({'text': user, 'episode_done': False})\n",
    "        if bot:\n",
    "            blender_agent.history.add_reply(bot)\n",
    "\n",
    "    response = blender_agent.act(prefix_text=prefix)\n",
    "    elapsed = time.time() - start\n",
    "    print(f\"BlenderBot replied in {elapsed * 1000:.0f}ms: {normalize_reply(response['text'])}\")\n",
    "    print(\"All beams:\", \"\\n\".join([t for t, s in response[\"beam_texts\"]]))\n",
    "    print()\n",
    "\n",
    "    print(\"BlenderBot's history view:\")\n",
    "    print(blender_agent.history)\n",
    "    return response\n",
    "    \n",
    "response = process(history)"
   ]
  },
  {
   "cell_type": "code",
   "execution_count": 43,
   "metadata": {},
   "outputs": [
    {
     "data": {
      "text/plain": [
       "{'id': 'Cgen',\n",
       " 'episode_done': False,\n",
       " 'text': 'oh, i have never been. i have been to the eastern part of the state called kansas.',\n",
       " 'beam_texts': [('oh, i have never been. i have been to the eastern part of the state called kansas.',\n",
       "   -8.08232307434082),\n",
       "  ('i love logan, i love the mountains. i would love to go back to utah one day.',\n",
       "   -8.748612403869629),\n",
       "  (\"oh cool! i've never been there, i've been to california.  do you like it?\",\n",
       "   -12.69615650177002),\n",
       "  (\"that's a great choice. i've heard of it! i like the mountains there. do you?\",\n",
       "   -12.906228065490723),\n",
       "  (\"I have never been there, what part of the state is it in?  I know it's a great place for music, movies, and sports.\",\n",
       "   -13.11520767211914),\n",
       "  (\"I have never been there, what part of the state is it in?  I know it's a great place for music, movies, and sports!\",\n",
       "   -13.658272743225098),\n",
       "  ('that is cool. i have never been there before. i would love to though. i like to travel.',\n",
       "   -13.969677925109863),\n",
       "  (\"I have never been there, what part of the state is it in?  I know it's a great place for music, movies, and sports\",\n",
       "   -14.045578002929688),\n",
       "  (\"i've heard of it, but never been there. what is it like?  i like the mountains.\",\n",
       "   -14.615947723388672),\n",
       "  (\"I have never been there, what part of the state is it in?  I know it's a great place for music, movies, and sports?\",\n",
       "   -15.150604248046875),\n",
       "  ('I love logan! I love the mountains.  What is your favourite season?  I like the fall.',\n",
       "   -17.51619529724121),\n",
       "  (\"that's nice, have you been to the state capital of utah where you are?  it's the largest city in the state.\",\n",
       "   -17.909570693969727),\n",
       "  (\"that's awesome, i love the mountains, i have family in utawa. what do you do?\",\n",
       "   -19.76785659790039)]}"
      ]
     },
     "execution_count": 43,
     "metadata": {},
     "output_type": "execute_result"
    }
   ],
   "source": [
    "response"
   ]
  },
  {
   "cell_type": "code",
   "execution_count": 18,
   "metadata": {},
   "outputs": [
    {
     "name": "stdout",
     "output_type": "stream",
     "text": [
      "[('hi, where are you from', \"i'm from the states! i'm from california originally but i live in utah now.\"), ('cool, i am also from utah', \"that's great, what is your favorite place?\"), ('um maybe taiwan?', None)]\n"
     ]
    }
   ],
   "source": [
    "from itertools import zip_longest\n",
    "history = [\n",
    "    \"hi, where are you from\",\n",
    "    \"i'm from the states! i'm from california originally but i live in utah now.\",\n",
    "    \"cool, i am also from utah\",\n",
    "    \"that's great, what is your favorite place?\",\n",
    "    \"um maybe taiwan?\"\n",
    "]\n",
    "pairs = zip_longest(*[iter(history)]*2)\n",
    "print(list(pairs))"
   ]
  },
  {
   "cell_type": "code",
   "execution_count": 14,
   "metadata": {},
   "outputs": [],
   "source": [
    "from parlai.agents.transformer.transformer import TransformerGeneratorAgent\n"
   ]
  },
  {
   "cell_type": "code",
   "execution_count": null,
   "metadata": {},
   "outputs": [],
   "source": []
  }
 ],
 "metadata": {
  "kernelspec": {
   "display_name": "Python 3",
   "language": "python",
   "name": "python3"
  },
  "language_info": {
   "codemirror_mode": {
    "name": "ipython",
    "version": 3
   },
   "file_extension": ".py",
   "mimetype": "text/x-python",
   "name": "python",
   "nbconvert_exporter": "python",
   "pygments_lexer": "ipython3",
   "version": "3.7.10"
  }
 },
 "nbformat": 4,
 "nbformat_minor": 4
}
